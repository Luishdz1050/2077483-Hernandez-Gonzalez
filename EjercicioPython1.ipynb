{
  "nbformat": 4,
  "nbformat_minor": 0,
  "metadata": {
    "colab": {
      "provenance": [],
      "include_colab_link": true
    },
    "kernelspec": {
      "name": "python3",
      "display_name": "Python 3"
    },
    "language_info": {
      "name": "python"
    }
  },
  "cells": [
    {
      "cell_type": "markdown",
      "metadata": {
        "id": "view-in-github",
        "colab_type": "text"
      },
      "source": [
        "<a href=\"https://colab.research.google.com/github/Luishdz1050/2077483-Hernandez-Gonzalez/blob/main/EjercicioPython1.ipynb\" target=\"_parent\"><img src=\"https://colab.research.google.com/assets/colab-badge.svg\" alt=\"Open In Colab\"/></a>"
      ]
    },
    {
      "cell_type": "code",
      "source": [
        "a = \"Actividad 5 Diseño de algoritmos en Phython\"\n",
        "b = \"Luis Roberto Hernandez Gonzalez\"\n",
        "c = \"2077483\"\n",
        "d = \"N3\"\n",
        "print(a)\n",
        "print(b)\n",
        "print(c)\n",
        "print(d)"
      ],
      "metadata": {
        "colab": {
          "base_uri": "https://localhost:8080/"
        },
        "id": "E6Lti9FYRELx",
        "outputId": "03ed15b1-ecb5-4b67-81b7-8b84bc83a176"
      },
      "execution_count": null,
      "outputs": [
        {
          "output_type": "stream",
          "name": "stdout",
          "text": [
            "Actividad 5 Diseño de algoritmos en Phython\n",
            "Luis Roberto Hernandez Gonzalez\n",
            "2077483\n",
            "N3\n"
          ]
        }
      ]
    },
    {
      "cell_type": "code",
      "source": [
        "#1 Desarrolla un algoritmo que le pida al usuario por su nombre y que lo salude con su nombre, excepto si se llama “Ana”, “Juan”, y “Pedro”.\n",
        "excepto = [\"Ana\", \"Juan\", \"Pedro\"]\n",
        "nombre = input(\"Por favor, ingresa tu nombre: \")\n",
        "if nombre in excepto:\n",
        "    print(f\"Nombre desconocido\")\n",
        "else:\n",
        "    print(f\"¡Hola, {nombre}!\")"
      ],
      "metadata": {
        "colab": {
          "base_uri": "https://localhost:8080/"
        },
        "id": "dS3VXaeSSB9Z",
        "outputId": "57abbaa0-ce89-4c31-e0c3-14d7556f5bb3"
      },
      "execution_count": null,
      "outputs": [
        {
          "output_type": "stream",
          "name": "stdout",
          "text": [
            "Por favor, ingresa tu nombre: luis\n",
            "¡Hola, luis!\n"
          ]
        }
      ]
    },
    {
      "cell_type": "code",
      "source": [
        "#1 Desarrolla un algoritmo que le pida al usuario por su nombre y que lo salude con su nombre, excepto si se llama “Ana”, “Juan”, y “Pedro”.\n",
        "excepto = [\"Ana\", \"Juan\", \"Pedro\"]\n",
        "nombre = input(\"Por favor, ingresa tu nombre: \")\n",
        "if nombre in excepto:\n",
        "    print(f\"Nombre desconocido\")\n",
        "else:\n",
        "    print(f\"¡Hola, {nombre}!\")"
      ],
      "metadata": {
        "colab": {
          "base_uri": "https://localhost:8080/"
        },
        "outputId": "9bb622ba-c4d8-4376-c107-8365a05372c6",
        "id": "QJYtqyouVzQ-"
      },
      "execution_count": null,
      "outputs": [
        {
          "output_type": "stream",
          "name": "stdout",
          "text": [
            "Por favor, ingresa tu nombre: Pedro\n",
            "Nombre desconocido\n"
          ]
        }
      ]
    },
    {
      "cell_type": "code",
      "source": [
        "#2 Desarrolla un algoritmo que por medio de una función, le pida al usuario una lista de N elementos y como resultado invierta el sentido de la lista\n",
        "def invertir_lista():\n",
        "    N = int(input(\"¿Cuántos numeros? \"))\n",
        "    lista = []\n",
        "    for i in range(N):\n",
        "        elemento = input(f\"Ingrese el elemento {i + 1}: \")\n",
        "        lista.append(elemento)\n",
        "    lista_invertida = lista[::-1]\n",
        "    print(f\"Lista invertida: {lista_invertida}\")\n",
        "invertir_lista()"
      ],
      "metadata": {
        "colab": {
          "base_uri": "https://localhost:8080/"
        },
        "id": "YcV1CRcgWTkP",
        "outputId": "eaf186d0-af52-4af6-fc53-95c4a053a637"
      },
      "execution_count": null,
      "outputs": [
        {
          "output_type": "stream",
          "name": "stdout",
          "text": [
            "¿Cuántos numeros? 5\n",
            "Ingrese el elemento 1: 1\n",
            "Ingrese el elemento 2: 2\n",
            "Ingrese el elemento 3: 3\n",
            "Ingrese el elemento 4: 4\n",
            "Ingrese el elemento 5: 5\n",
            "Lista invertida: ['5', '4', '3', '2', '1']\n"
          ]
        }
      ]
    },
    {
      "cell_type": "code",
      "source": [
        "#3 Desarrolla un algoritmo que le pregunte al usuario cuantos numeros de la serie de Fibonacci quiere generar y que al final los imprima\n",
        "\n",
        "n = int(input(\"¿Cuantos numeros de la serie de Fibonacci quieres generar?\"))\n",
        "num1 = 0\n",
        "num2 = 1\n",
        "next_number = num2\n",
        "count = 1\n",
        "\n",
        "while count <= n:\n",
        "    print(next_number, end=\" \")\n",
        "    count += 1\n",
        "    num1, num2 = num2, next_number\n",
        "    next_number = num1 + num2\n",
        "print()\n"
      ],
      "metadata": {
        "colab": {
          "base_uri": "https://localhost:8080/"
        },
        "id": "UqTc2bcCtZry",
        "outputId": "329e0636-e96f-4971-8d6c-25ce263df6af"
      },
      "execution_count": null,
      "outputs": [
        {
          "output_type": "stream",
          "name": "stdout",
          "text": [
            "¿Cuantos numeros de la serie de Fibonacci quieres generar?6\n",
            "1 2 3 5 8 13 \n"
          ]
        }
      ]
    },
    {
      "cell_type": "code",
      "source": [
        "import random\n",
        "def adivinar_numero():\n",
        "  print(\"Bienvenido al juego de adivinar el numero\")\n",
        "  print(\"Tienes que adivinar un numero entre 1 y 100\")\n",
        "\n",
        "  numero_aleatorio=random.radint (1,100)\n",
        "  intentos=0\n",
        "  adivinado=False\n",
        "\n",
        "  while not adivinado:\n",
        "    try:\n",
        "      # Solicitar al usuario que ingrese un numero\n",
        "      user_input=input(\"Ingresa un numero:\")\n",
        "      intento=int(user_input)\n",
        "\n",
        "      if intento<1 or intento>100:\n",
        "        print()\n",
        "\n",
        "\n",
        "  )"
      ],
      "metadata": {
        "id": "XDU6x_j9MzCJ"
      },
      "execution_count": null,
      "outputs": []
    },
    {
      "cell_type": "code",
      "source": [
        "#5 Ejercicio de cálculo de números primos en un rango dado: Escribe un programa que solicite al usuario un rango de números y\n",
        "# muestre todos los números primos dentro de ese rango.\n",
        "def es_primo(num):\n",
        "    if num < 2:\n",
        "        return False\n",
        "    for i in range(2, int(num**0.5) + 1):\n",
        "        if num % i == 0:\n",
        "            return False\n",
        "    return True\n",
        "def primos_en_rango(inicio, fin):\n",
        "    primos = []\n",
        "    for num in range(inicio, fin + 1):\n",
        "        if es_primo(num):\n",
        "            primos.append(num)\n",
        "    return primos\n",
        "inicio = int(input(\"Introduce el número inicial del rango: \"))\n",
        "fin = int(input(\"Introduce el número final del rango: \"))\n",
        "primos = primos_en_rango(inicio, fin)\n",
        "if primos:\n",
        "    print(f\"Los números primos entre {inicio} y {fin} son: {primos}\")\n",
        "else:\n",
        "    print(f\"No hay números primos entre {inicio} y {fin}.\")\n"
      ],
      "metadata": {
        "colab": {
          "base_uri": "https://localhost:8080/"
        },
        "id": "XR1i-iUQFkOv",
        "outputId": "896edff5-f223-42b7-e0fd-096eb433eb18"
      },
      "execution_count": null,
      "outputs": [
        {
          "output_type": "stream",
          "name": "stdout",
          "text": [
            "Introduce el número inicial del rango: 20\n",
            "Introduce el número final del rango: 66\n",
            "Los números primos entre 20 y 66 son: [23, 29, 31, 37, 41, 43, 47, 53, 59, 61]\n"
          ]
        }
      ]
    },
    {
      "cell_type": "code",
      "source": [
        "# 6 Ejercicio de implementación de una calculadora básica utilizando funciones:\n",
        "def sumar(a, b):\n",
        "    return a + b\n",
        "def restar(a, b):\n",
        "    return a - b\n",
        "def multiplicar(a, b):\n",
        "    return a * b\n",
        "def dividir(a, b):\n",
        "    return a / b\n",
        "def mostrar_menu():\n",
        "    print(\"Selecciona una operación:\")\n",
        "    print(\"1. Suma\")\n",
        "    print(\"2. Resta\")\n",
        "    print(\"3. Multiplicación\")\n",
        "    print(\"4. División\")\n",
        "def calculadora():\n",
        "    mostrar_menu()\n",
        "    opcion = int(input(\"Introduce la opción (1/2/3/4): \"))\n",
        "    num1 = float(input(\"Introduce el primer número: \"))\n",
        "    num2 = float(input(\"Introduce el segundo número: \"))\n",
        "    if opcion == 1:\n",
        "        print(f\"{num1} + {num2} = {sumar(num1, num2)}\")\n",
        "    elif opcion == 2:\n",
        "        print(f\"{num1} - {num2} = {restar(num1, num2)}\")\n",
        "    elif opcion == 3:\n",
        "        print(f\"{num1} * {num2} = {multiplicar(num1, num2)}\")\n",
        "    elif opcion == 4:\n",
        "        resultado = dividir(num1, num2)\n",
        "        print(f\"{num1} / {num2} = {resultado}\")\n",
        "    else:\n",
        "        print(\"Opción no válida\")\n",
        "calculadora()\n"
      ],
      "metadata": {
        "colab": {
          "base_uri": "https://localhost:8080/"
        },
        "id": "D6o5TbytGI_r",
        "outputId": "66898fe8-5928-4b43-eac2-cedfd62269de"
      },
      "execution_count": null,
      "outputs": [
        {
          "output_type": "stream",
          "name": "stdout",
          "text": [
            "Selecciona una operación:\n",
            "1. Suma\n",
            "2. Resta\n",
            "3. Multiplicación\n",
            "4. División\n",
            "Introduce la opción (1/2/3/4): 3\n",
            "Introduce el primer número: 6\n",
            "Introduce el segundo número: 5\n",
            "6.0 * 5.0 = 30.0\n"
          ]
        }
      ]
    }
  ]
}